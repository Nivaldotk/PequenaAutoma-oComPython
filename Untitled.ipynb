{
 "cells": [
  {
   "cell_type": "code",
   "execution_count": 18,
   "id": "fb8f1a22",
   "metadata": {},
   "outputs": [],
   "source": [
    "import pyautogui\n",
    "import time\n",
    "import pyperclip\n",
    "\n",
    "pyautogui.PAUSE = 1\n",
    "\n",
    "pyautogui.hotkey('ctrl', 't')\n",
    "\n",
    "link = \"https://www.youtube.com/\"\n",
    "pyperclip.copy(link)\n",
    "pyautogui.hotkey(\"ctrl\", \"v\")\n",
    "pyautogui.press(\"enter\")\n",
    "\n",
    "\n",
    "pyautogui.click(483, 132)\n",
    "\n",
    "time.sleep(1)\n",
    "\n",
    "link = \"i see you MISSIO\"\n",
    "pyperclip.copy(link)\n",
    "pyautogui.hotkey(\"ctrl\", \"v\")\n",
    "pyautogui.press(\"enter\")\n",
    "\n",
    "time.sleep(1)\n",
    "\n",
    "pyautogui.click(425, 505)\n",
    "\n",
    "time.sleep(1)\n",
    "\n",
    "pyautogui.hotkey('ctrl', 't')\n",
    "\n",
    "link = \"https://docs.google.com/spreadsheets/u/0/\"\n",
    "pyperclip.copy(link)\n",
    "pyautogui.hotkey(\"ctrl\", \"v\")\n",
    "pyautogui.press(\"enter\")\n",
    "\n",
    "time.sleep(1)\n",
    "\n",
    "pyautogui.click(335, 513)\n"
   ]
  },
  {
   "cell_type": "code",
   "execution_count": 8,
   "id": "c10986bf",
   "metadata": {},
   "outputs": [
    {
     "name": "stdout",
     "output_type": "stream",
     "text": [
      "Point(x=335, y=513)\n"
     ]
    },
    {
     "data": {
      "text/plain": [
       "'OK'"
      ]
     },
     "execution_count": 8,
     "metadata": {},
     "output_type": "execute_result"
    }
   ],
   "source": [
    "import pyautogui\n",
    "import time\n",
    "time.sleep(4)\n",
    "print(pyautogui.position())\n",
    "pyautogui.alert(\"Posição Registrada\")"
   ]
  },
  {
   "cell_type": "code",
   "execution_count": null,
   "id": "45ebecfa",
   "metadata": {},
   "outputs": [],
   "source": []
  },
  {
   "cell_type": "code",
   "execution_count": null,
   "id": "7b1cad71",
   "metadata": {},
   "outputs": [],
   "source": []
  }
 ],
 "metadata": {
  "kernelspec": {
   "display_name": "Python 3",
   "language": "python",
   "name": "python3"
  },
  "language_info": {
   "codemirror_mode": {
    "name": "ipython",
    "version": 3
   },
   "file_extension": ".py",
   "mimetype": "text/x-python",
   "name": "python",
   "nbconvert_exporter": "python",
   "pygments_lexer": "ipython3",
   "version": "3.8.8"
  }
 },
 "nbformat": 4,
 "nbformat_minor": 5
}
